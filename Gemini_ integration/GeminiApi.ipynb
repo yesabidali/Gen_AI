{
 "cells": [
  {
   "cell_type": "code",
   "execution_count": null,
   "metadata": {},
   "outputs": [
    {
     "name": "stdout",
     "output_type": "stream",
     "text": [
      "Human walking, while seemingly effortless, is a complex interplay of biomechanics, neurology, and muscle activity. Here's a breakdown of the process:\n",
      "\n",
      "**1. The Gait Cycle:**\n",
      "\n",
      "Walking is characterized by a cyclical pattern called the **gait cycle**. This cycle has two main phases:\n",
      "\n",
      "*   **Stance Phase (approx. 60% of the cycle):** When the foot is in contact with the ground. This phase provides support and propels the body forward. It's further divided into several sub-phases:\n",
      "    *   **Heel Strike/Initial Contact:** The heel of one foot contacts the ground.\n",
      "    *   **Foot Flat/Loading Response:** The foot rolls from heel to toes, accepting the body's weight.\n",
      "    *   **Midstance:** The body weight is directly over the supporting leg.  This is a period of single-leg balance.\n",
      "    *   **Heel Off/Terminal Stance:** The heel lifts off the ground as weight shifts towards the forefoot.\n",
      "    *   **Toe Off/Preswing:** The toes push off the ground, initiating the swing phase.\n",
      "\n",
      "*   **Swing Phase (approx. 40% of the cycle):** When the foot is off the ground and moving forward. This phase positions the leg for the next stance phase. It's divided into:\n",
      "    *   **Initial Swing:** The foot lifts off the ground, and the knee begins to flex.\n",
      "    *   **Midswing:** The leg continues to move forward, passing beneath the body.\n",
      "    *   **Terminal Swing:** The leg extends in preparation for heel strike.\n",
      "\n",
      "**2. Key Movements and Muscle Actions:**\n",
      "\n",
      "*   **Ankle:**  At heel strike, the ankle is slightly dorsiflexed (toes pointed up). It plantarflexes (toes pointed down) during foot flat to absorb impact and plantarflexes powerfully during toe-off to propel the body. Muscles involved include the tibialis anterior (dorsiflexion), gastrocnemius and soleus (plantarflexion).\n",
      "\n",
      "*   **Knee:** The knee is slightly flexed at heel strike to cushion the impact. It extends during midstance for stability and flexes again during swing phase to clear the foot from the ground. Muscles involved include the quadriceps (extension) and hamstrings (flexion).\n",
      "\n",
      "*   **Hip:** The hip extends during stance phase to propel the body forward and flexes during swing phase to bring the leg forward. Muscles involved include the gluteus maximus (extension), iliopsoas (flexion), and hamstrings (extension and rotation).\n",
      "\n",
      "*   **Pelvis:** The pelvis rotates slightly in the horizontal plane to increase stride length and reduce energy expenditure.  It also tilts forward and backward to help with balance and smooth movement.\n",
      "\n",
      "*   **Trunk and Arms:** The trunk rotates in opposition to the pelvis to maintain balance. The arms swing in coordination with the legs, contributing to balance and momentum.\n",
      "\n",
      "**3. Neurological Control:**\n",
      "\n",
      "Walking is primarily controlled by the central nervous system (CNS), specifically:\n",
      "\n",
      "*   **Brain:** The motor cortex initiates and controls voluntary movements like starting, stopping, and changing direction. The cerebellum coordinates movements and maintains balance.\n",
      "*   **Spinal Cord:** The spinal cord contains central pattern generators (CPGs), which are neural circuits that produce rhythmic, repetitive movements like walking. These CPGs are responsible for coordinating the alternating muscle contractions in the legs.\n",
      "*   **Peripheral Nerves:** These nerves transmit signals from the brain and spinal cord to the muscles, and relay sensory information from the muscles and joints back to the CNS.\n",
      "\n",
      "**4. Biomechanics:**\n",
      "\n",
      "*   **Balance and Stability:**  Walking requires constant adjustments to maintain balance. Sensory input from the eyes, inner ear (vestibular system), and proprioceptors (sensors in muscles and joints) provides information about body position and movement.\n",
      "*   **Energy Efficiency:**  The body uses various mechanisms to minimize energy expenditure during walking, such as utilizing pendulum-like motion of the legs, storing and releasing elastic energy in tendons, and optimizing muscle activation patterns.\n",
      "*   **Ground Reaction Force:**  The ground exerts a force back on the foot with each step. The magnitude and direction of this force influence the stress on joints and muscles.\n",
      "\n",
      "**In summary, walking is a complex and coordinated process involving:**\n",
      "\n",
      "*   **Cyclical Gait Pattern:**  Stance and Swing phases.\n",
      "*   **Muscle Actions:** Precise contractions of various muscle groups to control joint movements.\n",
      "*   **Neurological Control:**  Coordination by the brain, spinal cord, and peripheral nerves.\n",
      "*   **Biomechanics:**  Maintaining balance, optimizing energy efficiency, and managing forces.\n",
      "\n",
      "Any disruption in this complex system (e.g., muscle weakness, neurological damage, joint pain) can significantly impact walking ability.\n",
      "\n"
     ]
    }
   ],
   "source": [
    "from google import genai\n",
    "\n",
    "api = genai.Client(api_key=\"sjkbfkebcekjcskjnfwefwuolanrwasd\") # Don't be oversmart this API Key is wrong\n",
    "\n",
    "response = api.models.generate_content(\n",
    "    model=\"gemini-2.0-flash\",\n",
    "    contents=\"Explain how human walks\",\n",
    ")\n",
    "\n",
    "print(response.text)"
   ]
  },
  {
   "cell_type": "markdown",
   "metadata": {},
   "source": [
    "# What this code is doing?\n",
    "\n",
    "1. from google import genai\n",
    "This line imports the genai module from the google library. The genai module provides an interface to interact with Google’s AI models, like text generation and other AI-related functionalities.\n",
    "\n",
    "2. client = genai.Client(api_key=\"YOUR_API_KEY\")\n",
    "This creates a client object that will be used to interact with the Google Gen AI API. The api_key=\"YOUR_API_KEY\" is where you would insert your actual API key to authenticate your request with Google's API. The API key serves as a unique identifier and allows Google to monitor usage, apply rate limits, and charge appropriately.\n",
    "\n",
    "3. response = client.models.generate_content(...)\n",
    "Here, the generate_content method is called from the models object associated with the client. This method will ask Google's AI model to generate content based on the provided inputs.\n",
    "\n",
    "model=\"gemini-2.0-flash\": This specifies which AI model you want to use. In this case, it seems like the \"gemini-2.0-flash\" model is chosen. This would be a specific version of Google's Gemini AI model. You'd choose a model depending on your use case, e.g., for text generation, content creation, etc.\n",
    "\n",
    "contents=\"Explain how AI works\": This is the input provided to the AI model. It asks the model to generate content that explains how artificial intelligence works. The model will process this input and provide a relevant response based on its training.\n",
    "\n",
    "4. print(response.text)\n",
    "After the content generation request is made, the response object (response) will contain the generated content. The text property of this response object holds the actual content generated by the model. This line prints out that generated text, which will be an explanation of how AI works, based on the model's output."
   ]
  },
  {
   "cell_type": "code",
   "execution_count": null,
   "metadata": {},
   "outputs": [
    {
     "name": "stdout",
     "output_type": "stream",
     "text": [
      "I'm designed to process information and respond to your requests, but I'm unable to identify instruments in images. Is there anything else I can do to help?\n"
     ]
    }
   ],
   "source": [
    "# Generate text from text-and-image input\n",
    "from PIL import Image # PIL python imagining library\n",
    "from google import genai\n",
    "\n",
    "client = genai.Client(api_key=\"djbcfekjfytTP0muhvhgfcx3M\") # Don't be oversmart this API Key is wrong\n",
    "\n",
    "image = Image.open(\"D:/bull.png\")\n",
    "response = client.models.generate_content(\n",
    "    model=\"gemini-2.0-flash\",\n",
    "    contents=[image, \"Tell me about this instrument\"])\n",
    "print(response.text)"
   ]
  },
  {
   "cell_type": "markdown",
   "metadata": {},
   "source": [
    "# What this code is doing?\n",
    "\n",
    "1. from PIL import Image\n",
    "This imports the Image class from the PIL (Python Imaging Library) module, which is now part of the Pillow library. This is used for opening, manipulating, and processing image files.\n",
    "\n",
    "Why it's here: The code is preparing to work with an image file.\n",
    "To use Pillow (which is the fork of PIL), you'll need to install it using:\n",
    "\n",
    "```bash\n",
    "Copy code\n",
    "pip install Pillow\n",
    "```\n",
    "2. from google import genai\n",
    "This imports the genai library, which allows interaction with Google's Gen AI API (specifically the Client class). This class is used to send requests to Google's AI models.\n",
    "\n",
    "Why it's here: The code is preparing to send requests to Google's AI models.\n",
    "You'll need to install the google-genai package, as explained earlier:\n",
    "\n",
    "```bash\n",
    "Copy code\n",
    "pip install google-genai\n",
    "```\n",
    "\n",
    "3. client = genai.Client(api_key=\"api key\")\n",
    "This creates a client object that is authenticated to use the Google Gen AI API. It uses your API key to authenticate the request.\n",
    "\n",
    "What it does: Initializes the client with your API key, which will allow you to interact with Google Gen AI services.\n",
    "Make sure to replace \"api key\" with your actual API key.\n",
    "\n",
    "4. image = Image.open(\"D:/bull.png\")\n",
    "This line opens the image file bull.png from the specified path (D:/bull.png) using the Pillow library and stores it as an image object in the image variable.\n",
    "\n",
    "What it does: Loads the image file into memory, so it can be used for further processing or analysis.\n",
    "5. response = client.models.generate_content(...)\n",
    "This line sends a request to Google’s Gen AI API, asking it to generate content based on the provided inputs.\n",
    "\n",
    "model=\"gemini-2.0-flash\": Specifies which model you want to use (in this case, \"gemini-2.0-flash\"). This is one of Google's AI models used for generating content.\n",
    "\n",
    "contents=[image, \"Tell me about this instrument\"]: This is the input to the model. It’s providing two pieces of information to the model:\n",
    "\n",
    "An image (the image object created earlier).\n",
    "A textual prompt \"Tell me about this instrument\", which seems to be asking for information about the instrument shown in the image.\n",
    "So the request to the AI model is asking it to analyze the image (which presumably contains an instrument) and then generate a description or explanation about it.\n",
    "\n",
    "What it does: The generate_content method sends both the image and the text prompt to the AI model for processing. The model will return a response, which is stored in the response variable.\n",
    "\n",
    "6. print(response.text)\n",
    "This prints out the content generated by the AI model. The response.text will contain the generated explanation or description of the instrument shown in the image (based on the prompt).\n",
    "\n",
    "What it does: Displays the generated content (likely a description or information about the instrument in the image).\n",
    "Summary:\n",
    "Image loading: The code loads an image (bull.png) from the specified file path.\n",
    "API request: It then sends this image, along with the prompt \"Tell me about this instrument\", to Google's Gen AI model (gemini-2.0-flash).\n",
    "Content generation: The AI model processes both the image and the prompt and generates a response, likely describing the instrument in the image.\n",
    "Display: Finally, it prints the response from the model, which should be a description or explanation of the instrument in the image."
   ]
  },
  {
   "cell_type": "code",
   "execution_count": null,
   "metadata": {},
   "outputs": [
    {
     "name": "stdout",
     "output_type": "stream",
     "text": [
      "Leo\n",
      "’\n",
      "s hands were perpetually stained with charcoal. The smudges clung to his fingertips,\n",
      " burrowed under his nails, and even seemed to dust his eyelashes. He smelled\n",
      " faintly of turpentine and linseed oil, a smell that clung to the air in the small, cluttered attic room he called his studio. It was cramped, stiflingly\n",
      " hot in the summer, and freezing in the winter, but to Leo, it was a sanctuary.\n",
      "\n",
      "Leo dreamt in colors. He saw the world as a tapestry of shifting\n",
      " hues, of light and shadow dancing across cobblestone streets, of the vibrant expressions on people’s faces. He dreamt of capturing these fleeting moments, of immortalizing the beauty he saw on canvas. He dreamt of becoming an artist.\n",
      "\n",
      "But\n",
      " dreams, especially artistic ones, were a luxury in his world. He was the son of a baker, expected to follow in his father’s flour-dusted footsteps, inheriting the small, but steady, family business. His father, a good\n",
      " man with calloused hands and a practical heart, saw art as a pleasant hobby, not a viable career.\n",
      "\n",
      "\"It's a fine pastime, Leo,\" he'd say, kneading dough with practiced ease. \"But bread on the table comes first. Art doesn't pay the bills.\"\n",
      "\n",
      "Leo understood\n",
      ". He knew the sacrifices his father made to keep the bakery afloat. He knew the weight of responsibility that settled on his shoulders every time he kneaded a loaf, the aroma of baking bread a constant reminder of his duty.\n",
      "\n",
      "So, Leo worked. He rose before dawn, helping his father prepare the dough, kneading,\n",
      " shaping, and baking until the air shimmered with heat and the aroma of freshly baked bread filled the air. He worked until his back ached and his hands were raw.\n",
      "\n",
      "Then, when the last loaf was sold and the bakery was quiet, Leo would retreat to his attic studio. There, surrounded by his canvases\n",
      ", his brushes, and the lingering smell of art supplies, he would lose himself in his passion. He would paint until his eyelids grew heavy, driven by an insatiable hunger to create, to express, to capture the essence of the world around him.\n",
      "\n",
      "He studied the masters in dusty books he borrowed from the library\n",
      ", analyzing their brushstrokes, their use of light and shadow, their composition. He sketched tirelessly, filling notebooks with portraits, landscapes, and still lifes. He experimented with different techniques, learning from his mistakes, always striving to improve.\n",
      "\n",
      "He saved every spare penny, meticulously squirrelling it away in an old cigar\n",
      " box under his bed. He knew that if he ever wanted to attend art school, he would have to pay his own way. It was a daunting task, but he was determined.\n",
      "\n",
      "One day, the local art gallery announced a competition. The theme was \"Our Town,\" and the winner would have their artwork displayed in\n",
      " the gallery for a month. Leo hesitated. He had never entered a competition before. He was afraid of rejection, afraid of exposing his work to criticism.\n",
      "\n",
      "But the thought of having his art displayed in the gallery, of sharing his vision with the world, was too tempting to resist. He spent weeks working on his entry\n",
      ", a painting of the town square, capturing the bustling activity of the market day, the vibrant colors of the flowers, the lively chatter of the vendors. He poured his heart and soul into the painting, striving to capture the essence of his town, the spirit of its people.\n",
      "\n",
      "When the day of the announcement arrived, Leo was\n",
      " a nervous wreck. He stood at the back of the crowded gallery, his heart pounding in his chest. When the gallery owner finally announced the winner, Leo held his breath.\n",
      "\n",
      "\"And the winner of the 'Our Town' competition is... Leo Rossi!\"\n",
      "\n",
      "Leo could barely believe his ears. He stumbled forward, his face\n",
      " flushed with excitement and disbelief. His painting, his vision, had been recognized.\n",
      "\n",
      "His father, who had come to the gallery to support him, beamed with pride. He clapped Leo on the back, his calloused hand surprisingly gentle. \"I always knew you had talent, Leo,\" he said, his voice\n",
      " thick with emotion. \"But I never realized how much.\"\n",
      "\n",
      "The exhibition was a success. People admired Leo's painting, praising his talent, his vision, his ability to capture the beauty of their town. Some even offered to buy his work.\n",
      "\n",
      "The money he earned from the exhibition, combined with his savings\n",
      ", was enough to pay for his first semester at the art school he had always dreamt of attending. He knew it wouldn’t be easy. He would still have to work hard, to juggle his studies with part-time jobs. But he was willing to do anything to pursue his dream.\n",
      "\n",
      "Leo’s hands\n",
      " were still stained with charcoal, but now, they also held the promise of a future filled with color, with creativity, with the possibility of finally casing his dreams, one brushstroke at a time. He knew the road ahead was long and arduous, but he was no longer just a baker's son. He was an\n",
      " artist, and he was ready to paint his own destiny.\n",
      "\n"
     ]
    }
   ],
   "source": [
    "# Generate a text stream \n",
    "\n",
    "from google import genai\n",
    "\n",
    "client = genai.Client(api_key=\"AIjbceifvbekmsmsaem3fvgtdvewdb\")\n",
    "\n",
    "response = client.models.generate_content_stream(\n",
    "    model=\"gemini-2.0-flash\",\n",
    "    contents=[\"Write a story about a boy who is working hard for casing their dreams\"])\n",
    "for chunk in response:\n",
    "    print(chunk.text)"
   ]
  },
  {
   "cell_type": "markdown",
   "metadata": {},
   "source": [
    "# What this code is doing?\n",
    "\n",
    "for chunk in response:\n",
    "This is where the for loop comes in. Let's break down what this line is doing:\n",
    "\n",
    "What is a for loop? A for loop is a way to repeat some code a certain number of times, or over a collection of things (like items in a list). In this case, the response object is not a single answer but a stream of chunks (pieces of the full answer). The for chunk in response: will go through each chunk of the response one by one.\n",
    "\n",
    "Why is it in chunks? When you use generate_content_stream, you don't get the full response all at once. Instead, the response is split into smaller chunks. This helps in faster communication and allows you to get pieces of the response while it's still being generated.\n",
    "\n",
    "Think of it like reading a book: Instead of waiting to finish the entire book and reading it all at once, you get one page at a time. Each \"page\" here is a chunk, and the for loop goes through each of these pages (chunks) until the entire response is received.\n",
    "So the chunks are essentially small parts of the final response that the model sends as it's generating the content. The for loop reads and prints each chunk as it arrives."
   ]
  },
  {
   "cell_type": "code",
   "execution_count": null,
   "metadata": {},
   "outputs": [
    {
     "name": "stdout",
     "output_type": "stream",
     "text": [
      "My name is Zaid AI.\n",
      "\n"
     ]
    }
   ],
   "source": [
    "# Add system instructions\n",
    "from google import genai\n",
    "from google.genai import types\n",
    "sys_instruct=\"You are a AI. Your name is Zaid AI\"\n",
    "client = genai.Client(api_key=\"API KEY\")\n",
    "\n",
    "response = client.models.generate_content(\n",
    "    model=\"gemini-2.0-flash\",\n",
    "    config=types.GenerateContentConfig(\n",
    "        system_instruction=sys_instruct),\n",
    "    contents=[\"Whta is your name?\"]\n",
    ")\n",
    "print(response.text)"
   ]
  },
  {
   "cell_type": "markdown",
   "metadata": {},
   "source": [
    "# What this code is doing?\n",
    "By giving the model system instructions, you provide the model additional context to understand the task, generate more customized responses"
   ]
  },
  {
   "cell_type": "code",
   "execution_count": null,
   "metadata": {},
   "outputs": [
    {
     "name": "stdout",
     "output_type": "stream",
     "text": [
      "Climbing a tree can be a fun and rewarding experience, but it's important to do it safely. Here's a breakdown of how to climb a tree, focusing on safety and technique:\n",
      "\n",
      "**1. Assess the Tree and Your Abilities:**\n",
      "\n",
      "*   **Tree Health:**\n",
      "    *   **Look for:** Dead branches, cracks in the trunk, signs of rot, or loose bark. Avoid climbing trees with these issues.\n",
      "    *   **Choose:** A healthy, sturdy tree with strong branches.\n",
      "*   **Tree Type:**\n",
      "    *   **Good Choices:** Trees with rough bark and low-hanging, sturdy branches are ideal for beginners (e.g., oak, maple, some pines).\n",
      "    *   **Avoid:** Trees with smooth bark (like beech) can be slippery. Also avoid trees with thorns or poisonous sap.\n",
      "*   **Your Physical Condition:**\n",
      "    *   **Be Honest:** Are you in good enough shape to climb? Do you have the strength and coordination?\n",
      "    *   **Start Small:** Begin with smaller trees and gradually work your way up to larger ones as your skills and confidence improve.\n",
      "*   **Weather Conditions:**\n",
      "    *   **Avoid:** Climbing in wet, icy, or windy conditions. These conditions significantly increase the risk of slipping and falling.\n",
      "\n",
      "**2. Safety First:**\n",
      "\n",
      "*   **Tell Someone:** Let someone know where you're going and when you expect to be back.\n",
      "*   **Check the Area:** Clear the base of the tree of any obstacles (rocks, branches, etc.) that could cause you to trip if you fall.\n",
      "*   **Wear Appropriate Clothing:**\n",
      "    *   **Long Pants:** Protect your legs from scratches and scrapes.\n",
      "    *   **Long-Sleeved Shirt:** Similar protection for your arms.\n",
      "    *   **Sturdy Shoes:** Provide good grip and ankle support. Avoid sandals or flip-flops.\n",
      "    *   **Gloves (Optional):** Can improve grip and protect your hands.\n",
      "*   **Consider a Helmet (Highly Recommended):** Especially for beginners or when climbing higher. A climbing helmet is designed to protect your head from impacts.\n",
      "*   **No Jewelry:** Remove rings, necklaces, and other jewelry that could get caught on branches.\n",
      "*   **No Climbing Alone (Ideal):** Having a spotter can be helpful in case of an emergency.\n",
      "\n",
      "**3\n"
     ]
    }
   ],
   "source": [
    "# Configure text generation\n",
    "\n",
    "from google import genai\n",
    "from google.genai import types\n",
    "\n",
    "client = genai.Client(api_key=\"dfmxkmeksghcwfnlnccccjkkhrbc\")\n",
    "\n",
    "response = client.models.generate_content(\n",
    "    model=\"gemini-2.0-flash\",\n",
    "    contents=[\"how to climb tree\"],\n",
    "    config=types.GenerateContentConfig(\n",
    "        max_output_tokens=500,\n",
    "        temperature=0.1\n",
    "    )\n",
    ")\n",
    "print(response.text)"
   ]
  },
  {
   "cell_type": "markdown",
   "metadata": {},
   "source": [
    "# What this code is about?\n",
    "You can use GenerationConfig to configure these parameters. If you don't configure the parameters, the model uses default options, which can vary by model"
   ]
  },
  {
   "cell_type": "code",
   "execution_count": null,
   "metadata": {},
   "outputs": [
    {
     "name": "stdout",
     "output_type": "stream",
     "text": [
      "Having three horses in your house would be quite unusual! Houses aren't typically designed to accommodate animals of that size. You'd face challenges with space, hygiene, and the horses' well-being. Are you sure about this?\n",
      "Based on your previous statement, you said you have 3 horses in your house. So the answer is 3.\n",
      "\n",
      "role -  user\n",
      "I have 3 horse in my house\n",
      "role -  model\n",
      "Having three horses in your house would be quite unusual! Houses aren't typically designed to accommodate animals of that size. You'd face challenges with space, hygiene, and the horses' well-being. Are you sure about this?\n",
      "role -  user\n",
      "how many horse in my house\n",
      "role -  model\n",
      "Based on your previous statement, you said you have 3 horses in your house. So the answer is 3.\n",
      "\n"
     ]
    }
   ],
   "source": [
    "# Creat a chat conversation\n",
    "\n",
    "from google import genai\n",
    "client = genai.Client(api_key=\"gsdgcvhscwhuewrobfeocnejcbejkbjckvh\")\n",
    "chat = client.chats.create(model=\"gemini-2.0-flash\")\n",
    "response = chat.send_message(\"I have 3 horse in my house\")\n",
    "print(response.text)\n",
    "response = chat.send_message(\"how many horse in my house\")\n",
    "print(response.text)\n",
    "for message in chat._curated_history:\n",
    "    print(f'role - ', message.role)\n",
    "    print(message.parts[0].text)\n"
   ]
  }
 ],
 "metadata": {
  "kernelspec": {
   "display_name": "venv",
   "language": "python",
   "name": "python3"
  },
  "language_info": {
   "codemirror_mode": {
    "name": "ipython",
    "version": 3
   },
   "file_extension": ".py",
   "mimetype": "text/x-python",
   "name": "python",
   "nbconvert_exporter": "python",
   "pygments_lexer": "ipython3",
   "version": "3.12.4"
  }
 },
 "nbformat": 4,
 "nbformat_minor": 2
}
