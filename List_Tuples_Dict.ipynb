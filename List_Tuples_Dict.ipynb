{
 "cells": [
  {
   "cell_type": "markdown",
   "metadata": {},
   "source": [
    "# How to make a list\n"
   ]
  },
  {
   "cell_type": "code",
   "execution_count": 1,
   "metadata": {},
   "outputs": [
    {
     "name": "stdout",
     "output_type": "stream",
     "text": [
      "['car', 'bike', 'taxi']\n"
     ]
    }
   ],
   "source": [
    "list = [\"car\",\"bike\", \"taxi\"]\n",
    "print(list)"
   ]
  },
  {
   "cell_type": "markdown",
   "metadata": {},
   "source": [
    "# Remove elements from list"
   ]
  },
  {
   "cell_type": "code",
   "execution_count": 2,
   "metadata": {},
   "outputs": [
    {
     "name": "stdout",
     "output_type": "stream",
     "text": [
      "['bike', 'taxi']\n"
     ]
    }
   ],
   "source": [
    "list = [\"car\",\"bike\", \"taxi\"]\n",
    "list.remove(\"car\")\n",
    "print(list)"
   ]
  },
  {
   "cell_type": "markdown",
   "metadata": {},
   "source": [
    "# Add elements in list"
   ]
  },
  {
   "cell_type": "code",
   "execution_count": 3,
   "metadata": {},
   "outputs": [
    {
     "name": "stdout",
     "output_type": "stream",
     "text": [
      "['car', 'bike', 'taxi', 'Aeroplane']\n"
     ]
    }
   ],
   "source": [
    "list = [\"car\",\"bike\", \"taxi\"]\n",
    "list.append(\"Aeroplane\")\n",
    "print(list)"
   ]
  },
  {
   "cell_type": "code",
   "execution_count": 4,
   "metadata": {},
   "outputs": [
    {
     "name": "stdout",
     "output_type": "stream",
     "text": [
      "['Tank', 'car', 'bike', 'taxi']\n"
     ]
    }
   ],
   "source": [
    "list = [\"car\",\"bike\", \"taxi\"]\n",
    "list.insert(0,\"Tank\")\n",
    "print(list)"
   ]
  },
  {
   "cell_type": "markdown",
   "metadata": {},
   "source": [
    "Slicing just a picking part of something"
   ]
  },
  {
   "cell_type": "markdown",
   "metadata": {},
   "source": [
    "# Print specific elements of list"
   ]
  },
  {
   "cell_type": "code",
   "execution_count": null,
   "metadata": {},
   "outputs": [
    {
     "name": "stdout",
     "output_type": "stream",
     "text": [
      "car\n"
     ]
    }
   ],
   "source": [
    "# Print first element of list\n",
    "list = [\"car\",\"bike\", \"taxi\"]\n",
    "print(list[0])\n"
   ]
  },
  {
   "cell_type": "code",
   "execution_count": 10,
   "metadata": {},
   "outputs": [
    {
     "name": "stdout",
     "output_type": "stream",
     "text": [
      "5\n"
     ]
    }
   ],
   "source": [
    "# Print last element of list\n",
    "bottle = [1,2,3,4,5]\n",
    "print(bottle[-1])"
   ]
  },
  {
   "cell_type": "code",
   "execution_count": 11,
   "metadata": {},
   "outputs": [
    {
     "name": "stdout",
     "output_type": "stream",
     "text": [
      "4\n"
     ]
    }
   ],
   "source": [
    "# Print last second elements of list\n",
    "bottle = [1,2,3,4,5]\n",
    "print(bottle[-2])"
   ]
  },
  {
   "cell_type": "markdown",
   "metadata": {},
   "source": [
    "# Multidimensional list"
   ]
  },
  {
   "cell_type": "code",
   "execution_count": 5,
   "metadata": {},
   "outputs": [
    {
     "name": "stdout",
     "output_type": "stream",
     "text": [
      "[[1, 2, 3, 4, 5], [6, 7, 8, 9, 10]]\n"
     ]
    }
   ],
   "source": [
    "bottle = [[1,2,3,4,5],[6,7,8,9,10]]\n",
    "print(bottle)"
   ]
  },
  {
   "cell_type": "code",
   "execution_count": 8,
   "metadata": {},
   "outputs": [
    {
     "name": "stdout",
     "output_type": "stream",
     "text": [
      "[[6, 7, 8, 9, 10]]\n"
     ]
    }
   ],
   "source": [
    "bottle = [[1,2,3,4,5],[6,7,8,9,10]]\n",
    "print(bottle[1:2])"
   ]
  },
  {
   "cell_type": "code",
   "execution_count": null,
   "metadata": {},
   "outputs": [
    {
     "name": "stdout",
     "output_type": "stream",
     "text": [
      "[3, 4, 5]\n"
     ]
    }
   ],
   "source": [
    "bottle = [1,2,3,4,5, 6,7,8,9,10]\n",
    "print(bottle[2:5]) # printing elememts from index 2 to index 4"
   ]
  },
  {
   "cell_type": "code",
   "execution_count": 13,
   "metadata": {},
   "outputs": [
    {
     "name": "stdout",
     "output_type": "stream",
     "text": [
      "dibA\n"
     ]
    }
   ],
   "source": [
    "name = \"Abid\"\n",
    "print(name[::-1])"
   ]
  },
  {
   "cell_type": "code",
   "execution_count": null,
   "metadata": {},
   "outputs": [
    {
     "name": "stdout",
     "output_type": "stream",
     "text": [
      "[]\n"
     ]
    }
   ],
   "source": [
    "memeber = (\"Abid\", \"Gaurav\", \"Sorav\", \"Raghav\")\n",
    "abid = []\n",
    "memeber = abid\n",
    "type(memeber)"
   ]
  },
  {
   "cell_type": "code",
   "execution_count": 1,
   "metadata": {},
   "outputs": [
    {
     "name": "stdout",
     "output_type": "stream",
     "text": [
      "['Abid', 'Gaurav', 'Sorav', 'Raghav']\n"
     ]
    }
   ],
   "source": [
    "memeber = (\"Abid\", \"Gaurav\", \"Sorav\", \"Raghav\")\n",
    "abid = list(memeber)\n",
    "print(abid)"
   ]
  },
  {
   "cell_type": "code",
   "execution_count": null,
   "metadata": {},
   "outputs": [],
   "source": [
    "memeber = (\"Abid\", \"Gaurav\", \"Sorav\", \"Raghav\")\n",
    "abid = list(memeber)\n",
    "print(abid)\n",
    "abid.remove(\"Sorav\")\n",
    "memeber = tuple(abid)\n",
    "print (abid)"
   ]
  }
 ],
 "metadata": {
  "kernelspec": {
   "display_name": "Python 3",
   "language": "python",
   "name": "python3"
  },
  "language_info": {
   "codemirror_mode": {
    "name": "ipython",
    "version": 3
   },
   "file_extension": ".py",
   "mimetype": "text/x-python",
   "name": "python",
   "nbconvert_exporter": "python",
   "pygments_lexer": "ipython3",
   "version": "3.10.11"
  }
 },
 "nbformat": 4,
 "nbformat_minor": 2
}
